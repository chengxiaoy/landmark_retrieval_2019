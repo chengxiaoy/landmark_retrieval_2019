{
 "cells": [
  {
   "cell_type": "code",
   "execution_count": 4,
   "metadata": {
    "collapsed": true
   },
   "outputs": [],
   "source": [
    "import pandas as pd\n",
    "import sys"
   ]
  },
  {
   "cell_type": "code",
   "execution_count": 5,
   "metadata": {},
   "outputs": [
    {
     "name": "stdout",
     "output_type": "stream",
     "text": [
      "['', '/Users/tezign/PycharmProjects/CV_learn', '/Users/tezign/anaconda3/lib/python36.zip', '/Users/tezign/anaconda3/lib/python3.6', '/Users/tezign/anaconda3/lib/python3.6/lib-dynload', '/Users/tezign/anaconda3/lib/python3.6/site-packages', '/Users/tezign/anaconda3/lib/python3.6/site-packages/aeosa', '/Users/tezign/PycharmProjects/models/research/slim', '/Users/tezign/PycharmProjects/models/research/delf', '/Users/tezign/anaconda3/lib/python3.6/site-packages/IPython/extensions', '/Users/tezign/.ipython']\n"
     ]
    }
   ],
   "source": [
    "print(sys.path)\n"
   ]
  },
  {
   "cell_type": "code",
   "execution_count": 6,
   "metadata": {},
   "outputs": [],
   "source": [
    "sys.path.append('/Users/tezign/PycharmProjects/CV_learn/kaggle/landmark_retrieval/')"
   ]
  },
  {
   "cell_type": "code",
   "execution_count": 8,
   "metadata": {},
   "outputs": [],
   "source": [
    "clean_data = pd.read_csv('/Users/tezign/PycharmProjects/CV_learn/kaggle/landmark_retrieval/annotations_landmarks/annotation_clean_train.txt', ' ')"
   ]
  },
  {
   "cell_type": "code",
   "execution_count": 29,
   "metadata": {
    "collapsed": true
   },
   "outputs": [],
   "source": [
    "f = open(\"/Users/tezign/PycharmProjects/CV_learn/kaggle/landmark_retrieval/annot\"\n",
    "         \"ations_landmarks/annotation_clean_train.txt\",'r')\n",
    "clean_data = f.readlines()\n",
    "f.close()"
   ]
  },
  {
   "cell_type": "code",
   "execution_count": 30,
   "metadata": {},
   "outputs": [],
   "source": [
    "pic_dict = {}\n",
    "for line in clean_data:\n",
    "    url = line.split(\" \")[0]\n",
    "    label = line.split(\" \")[1]\n",
    "    if pic_dict.__contains__(label):\n",
    "        pic_dict[label].append(url)\n",
    "    else:\n",
    "        pic_dict[label] = [url]\n"
   ]
  },
  {
   "cell_type": "code",
   "execution_count": 31,
   "metadata": {
    "collapsed": true
   },
   "outputs": [],
   "source": [
    "import random"
   ]
  },
  {
   "cell_type": "code",
   "execution_count": 34,
   "metadata": {},
   "outputs": [
    {
     "data": {
      "text/plain": [
       "'14'"
      ]
     },
     "execution_count": 34,
     "metadata": {},
     "output_type": "execute_result"
    }
   ],
   "source": [
    "labels = list(pic_dict.keys())\n",
    "random.choice(labels)\n"
   ]
  },
  {
   "cell_type": "code",
   "execution_count": 1,
   "metadata": {},
   "outputs": [],
   "source": [
    "f = open(\"annotation_clean_train.txt\")"
   ]
  },
  {
   "cell_type": "code",
   "execution_count": 2,
   "metadata": {},
   "outputs": [],
   "source": [
    "lines = f.readlines()"
   ]
  },
  {
   "cell_type": "code",
   "execution_count": 11,
   "metadata": {
    "collapsed": true
   },
   "outputs": [],
   "source": [
    "ff = open(\"test.txt\",'w')"
   ]
  },
  {
   "cell_type": "code",
   "execution_count": 14,
   "metadata": {},
   "outputs": [],
   "source": [
    "ff.writelines( '\\n'.join([\"123\",\"234\"]))"
   ]
  },
  {
   "cell_type": "code",
   "execution_count": 15,
   "metadata": {},
   "outputs": [],
   "source": [
    "ff.close()"
   ]
  },
  {
   "cell_type": "code",
   "execution_count": null,
   "metadata": {},
   "outputs": [],
   "source": []
  }
 ],
 "metadata": {
  "kernelspec": {
   "display_name": "Python 2",
   "language": "python",
   "name": "python2"
  },
  "language_info": {
   "codemirror_mode": {
    "name": "ipython",
    "version": 2
   },
   "file_extension": ".py",
   "mimetype": "text/x-python",
   "name": "python",
   "nbconvert_exporter": "python",
   "pygments_lexer": "ipython2",
   "version": "2.7.6"
  }
 },
 "nbformat": 4,
 "nbformat_minor": 0
}
